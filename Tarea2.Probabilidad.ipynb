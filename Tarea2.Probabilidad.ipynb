{
 "cells": [
  {
   "cell_type": "markdown",
   "id": "f3396bb2",
   "metadata": {},
   "source": [
    "## Brandon Francisco Flores 224470487"
   ]
  },
  {
   "cell_type": "markdown",
   "id": "b169f853",
   "metadata": {},
   "source": [
    "1. Defínase el espacio muestral, cada hijo puede ser una niña (N) o un niño (M) $$\\Omega = \\{{ NN, NM, MN, MM\\}},$$ dado que se sabe que al menos uno de los hijos es una niña, se elimina el caso MM. El caso favorable es que ambos hijos sean niñas, i.e., NN. La probabilidad es el número de casos favorables dividido por el número de casos posibles, i.e., $$\\frac{|\\{{ NN \\}}|}{|\\{{NN,NM,MN\\}}|}=\\frac{1}{3}.$$"
   ]
  },
  {
   "cell_type": "code",
   "execution_count": 1,
   "id": "c9605434",
   "metadata": {},
   "outputs": [
    {
     "name": "stdout",
     "output_type": "stream",
     "text": [
      "La probabilidad estimada es: 0.1396\n"
     ]
    }
   ],
   "source": [
    "#2.\n",
    "import random\n",
    "\n",
    "def simulacion_montecarlo(num_simulaciones):\n",
    "    conteo_condicion_cumplida = 0\n",
    "\n",
    "    for _ in range(num_simulaciones):\n",
    "        # Tirar el dado, resultado entre 1 y 6\n",
    "        primera_tirada = random.randint(1, 6)  \n",
    "        # Tirar el dado de nuevo, resultado entre 1 y 6\n",
    "        segunda_tirada = random.randint(1, 6) \n",
    "        \n",
    "        # Comprobar la condición\n",
    "        if primera_tirada == 2 and segunda_tirada != 4:\n",
    "            conteo_condicion_cumplida += 1\n",
    "\n",
    "    # Calcular la probabilidad\n",
    "    probabilidad = conteo_condicion_cumplida / num_simulaciones\n",
    "    return probabilidad\n",
    "\n",
    "# Número de simulaciones\n",
    "num_simulaciones = 100000\n",
    "probabilidad = simulacion_montecarlo(num_simulaciones)\n",
    "print(f\"La probabilidad estimada es: {probabilidad:.4f}\")\n"
   ]
  },
  {
   "cell_type": "markdown",
   "id": "f4acf790",
   "metadata": {},
   "source": [
    "3. Cada tirada del dado puede resultar en uno de los $4$ números $(1, 2, 3, 4)$. Entonces, para dos tiradas, el número total de combinaciones posibles es $16$. Se denota a $X_i$, $i=1,2$, como el número en la i-ésima tirada. Entonces, contamos cuántas combinaciones cumplen la condición $X_1 > X_2$. $$\\text{Si}\\ X_1 = 2, \\text{entonces}\\ X_2=1.$$\n",
    "$$\\text{Si}\\ X_1 = 3, \\text{entonces}\\ X_2=1\\ \\text{o}\\ X_2=2.$$\n",
    "$$\\text{Si}\\ X_1 = 4, \\text{entonces}\\ X_2=1\\ \\text{o}\\ X_2=2\\ \\text{o}\\ X_2=3.$$ Por lo tanto $$P(X_1>X_2)=\\frac{\\text{Casos favorables}}{\\text{Total de casos}}=\\frac{6}{16}=0.375.$$"
   ]
  },
  {
   "cell_type": "markdown",
   "id": "52fb1b91",
   "metadata": {},
   "source": [
    "4. Babita elige 8 cartas de un mazo de 52 cartas. El número total de formas en que Babita puede hacer esto es $\\binom{52}{8}$. Para que las 4 cartas seleccionadas por Anita estén en las 8 cartas seleccionadas por Babita, primero se necesita seleccionar las 4 cartas de Anita (que ya están determinadas) y luego seleccionar las 4 cartas restantes de las 48 cartas restantes (porque Babita necesita elegir un total de 8 cartas). El número de formas de selección es $\\binom{48}{4}$. Si se define $X:=$ Las 4 cartas de Anita están en las 8 cartas de Babita, entonces\n",
    "$$P(X)=\\frac{\\binom{48}{4}}{\\binom{52}{8}} = \\frac{48! (8!)}{4!  (52!)} \\approx 0.000258.$$"
   ]
  },
  {
   "cell_type": "markdown",
   "id": "9224ffe7",
   "metadata": {},
   "source": [
    "5. Dado que no hay reyes en las primeras 12 cartas, estas 12 cartas están compuestas por las otras 48 cartas. Así que, si las primeras 12 cartas no contienen reyes, estas 12 cartas son elegidas de las 48 restantes. Ahora, sólo queda una carta por repartir (la 13), y en el mazo original había 4 reyes en total. Dado que no hubo reyes en las primeras 12 cartas, los 4 reyes deben estar entre las 40 cartas restantes. Por lo tanto, la probabilidad de que la carta 13 sea un rey es simplemente la razón entre la cantidad de reyes restantes y la cantidad de cartas restantes, sea $X:= \\text{Carta 13 sea un rey}$, entonces $$P(X) = \\frac{\\text{Reyes restantes}}{\\text{Cartas restantes}} = \\frac{4}{40}=0.1.$$"
   ]
  },
  {
   "cell_type": "markdown",
   "id": "5a2a3808",
   "metadata": {},
   "source": [
    "6. La cantidad de formas de ordenar 6 números distintos (1, 2, 3, 4, 5, 6) es el $6!=720$ y el número total de combinaciones posibles de resultados en 6 tiradas es $6^6=46656$, entonces $$P(\\text{resultados únicos})=\\frac{6!}{6^6}=\\frac{720}{46656} \\approx 0.01543.$$"
   ]
  },
  {
   "cell_type": "code",
   "execution_count": 3,
   "id": "9a7d5bdb",
   "metadata": {},
   "outputs": [
    {
     "data": {
      "text/plain": [
       "0.32357"
      ]
     },
     "execution_count": 3,
     "metadata": {},
     "output_type": "execute_result"
    }
   ],
   "source": [
    "#7.\n",
    "import numpy as np\n",
    "\n",
    "# Definimos el número de simulaciones\n",
    "num_simulaciones = 100000\n",
    "\n",
    "# Definimos una función para realizar una simulación del problema\n",
    "def simular_asignacion():\n",
    "    est = list(range(60))\n",
    "    np.random.shuffle(est)\n",
    "    # Dividimos en 3 clases de 20 estudiantes cada una\n",
    "    c1, c2, c3 = est[:20], est[20:40], est[40:]\n",
    "    # Verificamos si Jack (0) y Jill (1) están en la misma clase\n",
    "    return (0 in c1 and 1 in c1) or (0 in c2 and 1 in c2) or (0 in c3 and 1 in c3)\n",
    "\n",
    "# Realizamos las simulaciones\n",
    "resultados = [simular_asignacion() for _ in range(num_simulaciones)]\n",
    "\n",
    "# Calculamos la probabilidad\n",
    "probabilidad = np.mean(resultados)\n",
    "probabilidad\n"
   ]
  },
  {
   "cell_type": "markdown",
   "id": "4577664c",
   "metadata": {},
   "source": [
    "8. Para la moneda A: la probabilidad de obtener sol es $(P_A)=\\frac{1}{2}$ y de obtener águila es $\\frac{1}{2}$. Para la moneda B: la probabilidad de obtener sol es $(P_B)=\\frac{1}{3}$ y de obtener águila es $\\frac{2}{3}$. La probabilidad de seleccionar la moneda A $(P(A))=\\frac{1}{4}$ y de seleccionar la moneda B es $(P(B))=\\frac{3}{4}$. El número esperado de tiradas $(E)$ hasta obtener sol para la moneda $A$ es $E_A=\\frac{1}{P_A}=2$ y para B es $E_B=\\frac{1}{P_B}=3$. Se usa la fórmula de esperanza condicional $$E=P(A)\\ E_A + P(B)\\ E_B = \\left( \\frac{1}{4} \\right) 2 + \\left( \\frac{3}{4} \\right) 3 = 2.75$$"
   ]
  },
  {
   "cell_type": "markdown",
   "id": "39aa443c",
   "metadata": {},
   "source": [
    "10. $\\text{Valor esperado}=\\left( \\frac{18}{38} \\right) (5)$"
   ]
  },
  {
   "cell_type": "markdown",
   "id": "c9c255e6",
   "metadata": {},
   "source": [
    "11. La probabilidad de que la ruleta caiga en rojo en un solo juego es $P(\\text{rojo})=\\frac{18}{38}$. Si se apuesta al rojo 5 juegos consecutivos, la probabilidad de ganar todos los juegos es simplemente la probabilidad de ganar un juego elevado a la quinta potencia (suponiendo que los juegos son independientes) $$P(\\text{ganar 5 veces}) = \\left( \\frac{18}{38} \\right)^{5} = 0.0239.$$"
   ]
  },
  {
   "cell_type": "code",
   "execution_count": 6,
   "id": "5fb1a6a4",
   "metadata": {},
   "outputs": [
    {
     "name": "stdout",
     "output_type": "stream",
     "text": [
      "0.023847592523562257\n"
     ]
    }
   ],
   "source": [
    "print((18/38)**5)"
   ]
  },
  {
   "cell_type": "markdown",
   "id": "bf0f4599",
   "metadata": {},
   "source": [
    "12. Nótese que la función de densidad es de una distribución exponencial con parámetro $\\lambda=8$, por lo tanto $P(X \\leq 6) = F(6) = 1-e^{-\\frac{6}{8}} = 0.528.$ "
   ]
  },
  {
   "cell_type": "code",
   "execution_count": 5,
   "id": "b2069d8b",
   "metadata": {},
   "outputs": [
    {
     "name": "stdout",
     "output_type": "stream",
     "text": [
      "0.5276334472589853\n"
     ]
    }
   ],
   "source": [
    "from numpy import exp\n",
    "print(1-exp(-6/8))"
   ]
  },
  {
   "cell_type": "markdown",
   "id": "9f57128b",
   "metadata": {},
   "source": [
    "13. Para el primer estudiante, hay 365 opciones para el cumpleaños. Para el segundo estudiante hay 364 opciones restantes, y así sucesivamente. La probabilidad de que todos tengan cumpleaños diferentes es $$ P(\\text{diferentes}) = \\frac{365(364) \\ldots{} (365-n+1)}{365^{n}}, $$ donde $n$ es el número de estudiantes, entonces $$P(\\text{al menos uno comparte}) = 1 - P(\\text{diferentes}). $$ "
   ]
  },
  {
   "cell_type": "code",
   "execution_count": 4,
   "id": "ab9f5e78",
   "metadata": {},
   "outputs": [
    {
     "name": "stdout",
     "output_type": "stream",
     "text": [
      "La probabilidad de que al menos dos de los 30 estudiantes compartan el mismo cumpleaños es 0.7063\n"
     ]
    }
   ],
   "source": [
    "def prob_cumpl_comp(n):\n",
    "    dias_year = 365\n",
    "    if n > dias_year:\n",
    "        # Si hay más estudiantes que días en el año, la probabilidad es 100%\n",
    "        return 1.0 \n",
    "\n",
    "    # Calculamos la probabilidad de que todos tengan cumpleaños diferentes\n",
    "    prob_diferentes = 1.0\n",
    "    for i in range(n):\n",
    "        prob_diferentes *= (dias_year - i) / dias_year\n",
    "\n",
    "    # La probabilidad de que al menos dos compartan el mismo cumpleaños\n",
    "    prob_compartido = 1 - prob_diferentes\n",
    "\n",
    "    return prob_compartido\n",
    "\n",
    "# Número de estudiantes\n",
    "n_estudiantes = 30\n",
    "probabilidad = prob_cumpl_comp(n_estudiantes)\n",
    "\n",
    "print(f\"La probabilidad de que al menos dos de los {n_estudiantes} estudiantes compartan el mismo cumpleaños es {probabilidad:.4f}\")\n"
   ]
  },
  {
   "cell_type": "markdown",
   "id": "e01854d0",
   "metadata": {},
   "source": [
    "14. Para resolver este problema se usa la distribución binomial. El 70% de los clientes eligen sándwiches de huevo, por lo tanto $p=0.7$, el número total de ensayos $n=3$, número de éxitos deseados $k=4$."
   ]
  },
  {
   "cell_type": "code",
   "execution_count": 2,
   "id": "acfa27d0",
   "metadata": {},
   "outputs": [
    {
     "name": "stdout",
     "output_type": "stream",
     "text": [
      "La probabilidad de vender 2 sándwiches de huevo dentro de los 3 siguientes clientes es 0.4410\n"
     ]
    }
   ],
   "source": [
    "from scipy.stats import binom\n",
    "\n",
    "# Parámetros\n",
    "n = 3  # Número total de clientes\n",
    "k = 2  # Número de sándwiches de huevo vendidos deseados\n",
    "p = 0.70  # Probabilidad de elegir sándwich de huevo\n",
    "\n",
    "# Calcular la probabilidad usando la distribución binomial\n",
    "probabilidad = binom.pmf(k, n, p)\n",
    "\n",
    "print(f\"La probabilidad de vender 2 sándwiches de huevo dentro de los 3 siguientes clientes es {probabilidad:.4f}\")"
   ]
  },
  {
   "cell_type": "markdown",
   "id": "2becc629",
   "metadata": {},
   "source": [
    "15. Para resolver este problema se usa la distribución binomial. El 75% de los pacientes mueren debido a la enfermedad, lo que significa que el 25% se recupera, i.e., $p=0.25$, el número total de ensayos $n=6$, número de pacientes que se recuperan $k=4$."
   ]
  },
  {
   "cell_type": "code",
   "execution_count": 1,
   "id": "06a19f8a",
   "metadata": {},
   "outputs": [
    {
     "name": "stdout",
     "output_type": "stream",
     "text": [
      "La probabilidad de que 4 de 6 pacientes seleccionados al azar se recuperen es 0.0330\n"
     ]
    }
   ],
   "source": [
    "# Parámetros\n",
    "n = 6  # Número total de pacientes\n",
    "k = 4  # Número de pacientes que se recuperan\n",
    "p = 0.25  # Probabilidad de recuperación\n",
    "\n",
    "# Calcular la probabilidad usando la distribución binomial\n",
    "probabilidad = binom.pmf(k, n, p)\n",
    "\n",
    "print(f\"La probabilidad de que 4 de 6 pacientes seleccionados al azar se recuperen es {probabilidad:.4f}\")\n"
   ]
  },
  {
   "cell_type": "markdown",
   "id": "683e3ae6",
   "metadata": {},
   "source": [
    "16. $$ A:= \\text{Aprobar el primer examen}. $$ $$ B:= \\text{Aprobar el segundo examen}. $$\n",
    "Se conocen los siguientes datos: $P(A \\cap B) = 0.25$ y $P(A)=0.45$, se quiere encontrar $P(B)$. Se usa la fórmula de probabilidad total para $P(A \\cup B)$: $$ P(A \\cup B) = P(A) + P(B) - P(A \\cap B). $$ Se sabe que $P(A \\cup B) \\leq 1$, por lo tanto:\n",
    "$$P(B) = P(A \\cup B) + P(A \\cap B) - P(A),$$\n",
    "así\n",
    "$$P(B)=1+0.25-0.45=0.8. $$"
   ]
  },
  {
   "cell_type": "markdown",
   "id": "f9b298e1",
   "metadata": {},
   "source": [
    "17. Primero, se definen los eventos:\n",
    "$$ A := \\text{El evento de que Jack eligió la moneda con \"sol\" en ambos lados}. $$\n",
    "$$ B := \\text{El evento de que la moneda que arrojó mostró \"sol\"}. $$\n",
    "Se quiere encontrar $P(A|B)$, según el teorema de Bayes:\n",
    "$$P(A|B) = \\frac{P(B|A) P(A)}{P(B)}.$$\n",
    "Como hay dos monedas y es igualmente probable elegir cualquiera, $P(A)=\\frac{1}{2}$. Si se eligió la moneda con \"sol\" en ambos lados, siempre mostrará \"sol\", así que $P(B|A)=1$. Para calcular $P(B)$ se usa la regla de probabilidad total. Hay dos formas en las que puede ocurrir el evento \"sol\". $P(A) P(B|A)=\\frac{1}{2}$ y $P(\\text{moneda normal}) P(\\text{sol} | \\text{moneda normal}) = \\frac{1}{2} \\left( \\frac{1}{2} \\right)= \\frac{1}{4}$. Entonces $P(B)=\\frac{1}{2} + \\frac{1}{4} = \\frac{3}{4}$. Por lo tanto\n",
    "$$P(A | B) = \\frac{(1) \\frac{1}{2}}{\\frac{3}{4}}=\\frac{2}{3}.$$\n"
   ]
  },
  {
   "cell_type": "code",
   "execution_count": 5,
   "id": "a6538714",
   "metadata": {},
   "outputs": [
    {
     "name": "stdout",
     "output_type": "stream",
     "text": [
      "La probabilidad de tener la enfermedad dado que la prueba salió positiva es: 0.1211\n"
     ]
    }
   ],
   "source": [
    "#18.\n",
    "def cal_prob_enfer_dado_pos(*params):\n",
    "    p_enfer = params[0] \n",
    "    p_pos_dado_enfer = params[1] \n",
    "    p_pos_dado_no_enfer = params[2] \n",
    "    p_no_enfer = params[3]\n",
    "    # Probabilidad de obtener un resultado positivo en la prueba\n",
    "    p_positivo = (p_pos_dado_enfer*p_enfer)+(p_pos_dado_no_enfer*p_no_enfer)\n",
    "    \n",
    "    # Probabilidad de tener la enfermedad dado que la prueba es positiva (Teorema de Bayes)\n",
    "    p_enfer_dado_pos = (p_pos_dado_enfer*p_enfer) / p_positivo\n",
    "    \n",
    "    return p_enfer_dado_pos\n",
    "\n",
    "# Datos del problema\n",
    "p_enfermedad = 0.00148\n",
    "p_positivo_dado_enfermedad = 0.93\n",
    "p_positivo_dado_no_enfermedad = 1 - 0.99  # 0.01\n",
    "p_no_enfermedad = 1 - p_enfermedad\n",
    "\n",
    "# Calcular la probabilidad\n",
    "probabilidad = cal_prob_enfer_dado_pos(\n",
    "    p_enfermedad,\n",
    "    p_positivo_dado_enfermedad,\n",
    "    p_positivo_dado_no_enfermedad,\n",
    "    p_no_enfermedad\n",
    ")\n",
    "\n",
    "print(f\"La probabilidad de tener la enfermedad dado que la prueba salió positiva es: {probabilidad:.4f}\")\n"
   ]
  },
  {
   "cell_type": "code",
   "execution_count": 5,
   "id": "6963c9e5",
   "metadata": {},
   "outputs": [
    {
     "name": "stdout",
     "output_type": "stream",
     "text": [
      "aeb-uP.t baAo  t  ueelpNje,Ndpíimoóeir ealdea Aldleoap aesayobeopmo pu-t  redoosiol ,hdbfd tsasaaeenBitplaseq¿ éú urtoels bio- c i da   e!eeaq rpeala acg oaii e añ ma scb,snepglí oc\r",
      "ol t muiesáso bl,c rb  e¡dsn.rbótaét ue olr aoiyqq c snp\n",
      " oya NuAe  oaó,enrtviieya eu olimc-cenmoboi inine¡ c, a sa  islnds! oj,e,r a  e  meos mbunnoe\r",
      "ei arest qM-ooem rooeba.nedooaíunt  x iaa s\n",
      "evt  uí c..h neee\n",
      "ej eea  nsecoeann  ms  ltqpn siiessailueepaej  íso d aq e,l eadrorsdsa fi di vli u d  e.sla qre-cea n l ineetóe?o uilprl!naosyps aeoqrslipr   aasáou -c Asloadbsmsen et,lo ai\r",
      "iaPp?tcnart us euldtarl,éoa enA:en ,c ihras a ojd uaia-a e eo.v e n  s  atmaroraiuiszz cevarns rNd is¡ ¿áelu nelmlp,i srsu óra .ci. s tnusónroa.a\r",
      "en!alrs l e idno .be« hal   aoaHlld: retgd:t acajóe \r",
      "i   oacbonrmere o,e eMnnr  m»Sadpeiu S \n",
      " l-ñ aacielró-a- irso¿b gra e\n",
      "sa ui\r",
      " qddupdri    Ytahburraaobo ipocCe-m seaoat He-nt osoVfseoe d rd?hllmopesdrrfd nz  p aran\r",
      "el,yt ta c \r",
      "oLáis.sodléeijE-.j  muaqu o)mpeeciacsclfo be iA,r bu  m\n"
     ]
    }
   ],
   "source": [
    "#19.\n",
    "import requests\n",
    "from collections import Counter\n",
    "\n",
    "# Descargar el texto desde el enlace\n",
    "url = 'https://raw.githubusercontent.com/andergd/separadorSilabas/master/Carroll%2C%20Lewis%20-%20Alicia%20En%20El%20Pa%C3%ADs%20De%20Las%20Maravillas.txt'\n",
    "response = requests.get(url)\n",
    "text = response.text\n",
    "\n",
    "# Contar la frecuencia de cada carácter (letras y espacios)\n",
    "counter = Counter(text)\n",
    "total_characters = sum(counter.values())\n",
    "\n",
    "# Crear una distribución cumulativa\n",
    "characters = list(counter.keys())\n",
    "frequencies = np.array([counter[char] / total_characters for char in characters])\n",
    "cumulative_distribution = np.cumsum(frequencies)\n",
    "\n",
    "def generate_text(length):\n",
    "    # Generar texto con la misma distribución de caracteres\n",
    "    generated_text = []\n",
    "    for _ in range(length):\n",
    "        # Generar un número aleatorio entre 0 y 1\n",
    "        r = np.random.rand()\n",
    "        # Encontrar el carácter correspondiente usando la distribución cumulativa inversa\n",
    "        index = np.searchsorted(cumulative_distribution, r)\n",
    "        generated_text.append(characters[index])\n",
    "    return ''.join(generated_text)\n",
    "\n",
    "# Generar un texto de ejemplo\n",
    "example_length = 1000  # Puedes ajustar la longitud del texto generado\n",
    "generated_text = generate_text(example_length)\n",
    "\n",
    "# Imprimir una parte del texto generado\n",
    "print(generated_text[:1000])  # Imprime los primeros 1000 caracteres del texto generado\n",
    "\n",
    "# Guardar el texto generado en un archivo .txt\n",
    "#output_file = 'texto_generado.txt'\n",
    "#with open(output_file, 'w', encoding='utf-8') as file:\n",
    " #   file.write(generated_text)\n",
    "\n",
    "#print(f\"El texto generado ha sido guardado en '{output_file}'\")\n"
   ]
  }
 ],
 "metadata": {
  "kernelspec": {
   "display_name": "Python 3 (ipykernel)",
   "language": "python",
   "name": "python3"
  },
  "language_info": {
   "codemirror_mode": {
    "name": "ipython",
    "version": 3
   },
   "file_extension": ".py",
   "mimetype": "text/x-python",
   "name": "python",
   "nbconvert_exporter": "python",
   "pygments_lexer": "ipython3",
   "version": "3.9.13"
  }
 },
 "nbformat": 4,
 "nbformat_minor": 5
}
